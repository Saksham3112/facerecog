{
 "cells": [
  {
   "cell_type": "code",
   "execution_count": 1,
   "metadata": {},
   "outputs": [],
   "source": [
    "import cv2"
   ]
  },
  {
   "cell_type": "code",
   "execution_count": 2,
   "metadata": {},
   "outputs": [],
   "source": [
    "#program to illustrate how to capture video"
   ]
  },
  {
   "cell_type": "code",
   "execution_count": 3,
   "metadata": {},
   "outputs": [],
   "source": [
    "# starts video capturing with device with id ==0\n",
    "cap=cv2.VideoCapture(0)\n",
    "while True:\n",
    "    # returns bool , frame captured \n",
    "    ret,frame=cap.read()\n",
    "    gray_frame=cv2.cvtColor(frame,cv2.COLOR_BGR2RGB)\n",
    "    if ret==False:\n",
    "        continue\n",
    "    # displays colored and grayscale frames \n",
    "    cv2.imshow(\"Video frame\",frame)\n",
    "    cv2.imshow(\"Gray frame\",gray_frame)\n",
    "    # wait for user input - q,then you will stop the loop\n",
    "    key_pressed=cv2.waitKey(1) & 0xFF\n",
    "    if key_pressed==ord('q'):\n",
    "        break\n",
    "cap.release()\n",
    "cv2.destroyAllWindows()  "
   ]
  },
  {
   "cell_type": "code",
   "execution_count": 5,
   "metadata": {},
   "outputs": [
    {
     "name": "stdout",
     "output_type": "stream",
     "text": [
      "1\n",
      "2\n",
      "3\n",
      "4\n",
      "5\n",
      "6\n",
      "7\n",
      "8\n",
      "9\n",
      "10\n",
      "11\n",
      "12\n",
      "(12, 30000)\n",
      "Data stored successfully at ./data/SakG.npy\n"
     ]
    }
   ],
   "source": [
    "## Selecting the largest face and saving it in numpy array \n",
    "import numpy as np\n",
    "cap=cv2.VideoCapture(0)\n",
    "skip=0\n",
    "face_cascade=cv2.CascadeClassifier(\"haarcascade_frontalface_alt.xml\")\n",
    "face_data=[]\n",
    "dataset_path = './data/'\n",
    "file_name=str(input(\"Enter Your Name\"))\n",
    "while True:\n",
    "    # returns bool , frame captured \n",
    "    ret,frame=cap.read()\n",
    "    gray_frame=cv2.cvtColor(frame,cv2.COLOR_BGR2RGB)\n",
    "    if ret==False:\n",
    "        continue\n",
    "    # displays colored frames \n",
    "    faces= face_cascade.detectMultiScale(gray_frame,1.3,5)\n",
    "    faces=sorted(faces,key=lambda f:f[2]*f[3])[-1]\n",
    "    \n",
    "    x,y,w,h=faces\n",
    "    cv2.rectangle(frame,(x,y),(x+w,y+h),(0,255,255))\n",
    "    \n",
    "    offset=10\n",
    "    face_section=frame[y-offset:y+offset+h,x-offset:x+offset+w]\n",
    "    face_section=cv2.resize(face_section,(100,100))\n",
    "    \n",
    "    if(skip%10==0):\n",
    "        face_data.append(face_section)\n",
    "        print(len(face_data))\n",
    "    skip=skip+1\n",
    "    cv2.imshow(\"Video frame\",frame)\n",
    "    cv2.imshow(\"Face_section\",face_section)\n",
    "    # wait for user input - q,then you will stop the loop\n",
    "    key_pressed=cv2.waitKey(1) & 0xFF\n",
    "    if key_pressed==ord('q'):\n",
    "        break\n",
    "\n",
    "face_data=np.asarray(face_data)\n",
    "face_data=face_data.reshape((face_data.shape[0],-1))\n",
    "print(face_data.shape)\n",
    "np.save(dataset_path+file_name,face_data)\n",
    "print(\"Data stored successfully at \"+dataset_path+file_name+\".npy\")\n",
    "cap.release()\n",
    "cv2.destroyAllWindows()  "
   ]
  },
  {
   "cell_type": "code",
   "execution_count": null,
   "metadata": {},
   "outputs": [],
   "source": []
  }
 ],
 "metadata": {
  "interpreter": {
   "hash": "b89b5cfaba6639976dc87ff2fec6d58faec662063367e2c229c520fe71072417"
  },
  "kernelspec": {
   "display_name": "Python 3.10.1 64-bit",
   "language": "python",
   "name": "python3"
  },
  "language_info": {
   "codemirror_mode": {
    "name": "ipython",
    "version": 3
   },
   "file_extension": ".py",
   "mimetype": "text/x-python",
   "name": "python",
   "nbconvert_exporter": "python",
   "pygments_lexer": "ipython3",
   "version": "3.10.1"
  },
  "orig_nbformat": 4
 },
 "nbformat": 4,
 "nbformat_minor": 2
}
